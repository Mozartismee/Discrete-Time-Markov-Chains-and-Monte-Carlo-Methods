{
 "cells": [
  {
   "cell_type": "markdown",
   "id": "b9fa172d",
   "metadata": {
    "deletable": false,
    "editable": false,
    "nbgrader": {
     "cell_type": "markdown",
     "checksum": "65b64c21918fe62b83eed68e019131e8",
     "grade": false,
     "grade_id": "cell-c1deb86e5f2167c8",
     "locked": true,
     "schema_version": 3,
     "solution": false,
     "task": false
    }
   },
   "source": [
    "# Summary Assignment for Module 3\n",
    "<blockquote>This is an assignment in a Jupyter notebook which will be autograded. (It is not a programming assignment but rather is using tools from a Jupyter notebook that allows for calculations and more free-form answers than the other kinds of assignments you have seen so far in this course.) To avoid autograder errors, please do not add or delete any cells. Also, run all cells even if they are hidden and not requiring any input from you. You may add additional calulations or print statements to any cell to help you see the current values of variables you may be working with. \n",
    "</blockquote>\n",
    "\n",
    "**Rounding Error:** Ideally, your answers will be given from a direct R calculation. For example, given a matrix $A$, if you are asked to multiply the $(1,3)$ entry with the $(2,2)$ entry and to store the result in a variable `x`, you would type\n",
    "\n",
    "<code>x = A[1,3]*A[2,2]</code>\n",
    "\n",
    "However, if you compute `A[1,3]*A[2,2]` and see `0.23719445178`, you could choose to type out the answer as, for example,\n",
    "\n",
    "<code>x = 0.23719445</code>\n",
    "\n",
    "<u>as long as you keep at least 3 decimal places of accuracy</u>."
   ]
  },
  {
   "cell_type": "code",
   "execution_count": 1,
   "id": "bfbcd161",
   "metadata": {
    "deletable": false,
    "editable": false,
    "nbgrader": {
     "cell_type": "code",
     "checksum": "ab60973cb2d9a880699c66957629a7a1",
     "grade": false,
     "grade_id": "cell-b28368ee2e259959",
     "locked": true,
     "schema_version": 3,
     "solution": false,
     "task": false
    }
   },
   "outputs": [],
   "source": [
    "# Load Necesary Libraries for Autograding\n",
    "library(testthat)"
   ]
  },
  {
   "cell_type": "code",
   "execution_count": 2,
   "id": "d4269bea",
   "metadata": {
    "deletable": false,
    "editable": false,
    "nbgrader": {
     "cell_type": "code",
     "checksum": "ef030184eb0cd34830a40df94808c833",
     "grade": false,
     "grade_id": "cell-fb099794cac00509",
     "locked": true,
     "schema_version": 3,
     "solution": false,
     "task": false
    }
   },
   "outputs": [
    {
     "name": "stderr",
     "output_type": "stream",
     "text": [
      "Loading required package: Matrix\n",
      "\n",
      "\n",
      "Attaching package: ‘expm’\n",
      "\n",
      "\n",
      "The following object is masked from ‘package:Matrix’:\n",
      "\n",
      "    expm\n",
      "\n",
      "\n"
     ]
    }
   ],
   "source": [
    "# Run this cell. It is necessary for autograding. It will also allow you to take powers of a matrix using\n",
    "# \"%^%\" if you choose.\n",
    "# Note that this cell may take a few moments to run. Do not proceed further until you see a response with a red \n",
    "# background below this cell or until \"In[]\" or \"In[*]\" to the left of the cell has a number in the brackets\n",
    "library(\"expm\")"
   ]
  },
  {
   "cell_type": "markdown",
   "id": "c3449a2e",
   "metadata": {
    "deletable": false,
    "editable": false,
    "nbgrader": {
     "cell_type": "markdown",
     "checksum": "cb3fff9bdec5f185a2d6fb1f22cf697d",
     "grade": false,
     "grade_id": "cell-2698ba31fb24c6fc",
     "locked": true,
     "schema_version": 3,
     "solution": false,
     "task": false
    }
   },
   "source": [
    "# Problem 1\n",
    "\n",
    "Consider a Markov chain on state space $S = \\{1,2,3,4,5,6\\}$ with probability transition matrix given by <br><br>\n",
    "\n",
    "$$\n",
    "\\begin{array}{lcr}  &&1\\,\\,\\,\\,\\,\\,\\,\\,\\,\\,2\\,\\,\\,\\,\\,\\,\\,\\,\\,\\,3\\,\\,\\,\\,\\,\\,\\,\\,\\,\\,4\\,\\,\\,\\,\\,\\,\\,\\,\\,\\,5\\,\\,\\,\\,\\,\\,\\,\\,\\,\\,6\\,\\,\\,\\,\\,\\\\\n",
    "\\bf{P} &=& \\begin{array}{c} 1\\\\2\\\\3\\\\4\\\\5\\\\6\\end{array}\\left[ \n",
    "\\begin{array}{cccccc}\n",
    "0.4 & 0 & 0 & 0.5 & 0 & 0.1\\\\\n",
    "0 & 0.8 & 0 & 0 & 0.2 & 0\\\\\n",
    "0 & 0 & 0.3 & 0.5 & 0.2 & 0\\\\\n",
    "0.9 & 0 & 0 & 0.1 & 0 & 0\\\\\n",
    "0 & 0.5 & 0 & 0 & 0.5 & 0\\\\\n",
    "0 & 0 & 0 & 1 & 0 & 0\\\\\n",
    "\\end{array}\n",
    "\\right]\n",
    "\\end{array}\n",
    "$$\n",
    "\n",
    "\n",
    "Run the next cell to define the matrix."
   ]
  },
  {
   "cell_type": "code",
   "execution_count": 3,
   "id": "b2c4554b",
   "metadata": {},
   "outputs": [],
   "source": [
    "# Run this cell. Consider adding a \"P\" as the last line in the cell\n",
    "# if you would like to see the matrix more clearly\n",
    "P = matrix(0,6,6)\n",
    "P[1,] = c(0.4,0,0,0.5,0,0.1)\n",
    "P[2,] = c(0,0.8,0,0,0.2,0)\n",
    "P[3,] = c(0,0,0.3,0.5,0.2,0)\n",
    "P[4,] = c(0.9,0,0,0.1,0,0)\n",
    "P[5,] = c(0,0.5,0,0,0.5,0)\n",
    "P[6,] = c(0,0,0,1,0,0)"
   ]
  },
  {
   "cell_type": "markdown",
   "id": "e358c2a3",
   "metadata": {
    "deletable": false,
    "editable": false,
    "nbgrader": {
     "cell_type": "markdown",
     "checksum": "bb9447004c8039546178abe66b0db9c1",
     "grade": false,
     "grade_id": "cell-8afd019863bcad9e",
     "locked": true,
     "schema_version": 3,
     "solution": false,
     "task": false
    }
   },
   "source": [
    "**Part A)** How many communication classes does this Markov chain have?\n",
    "\n",
    "Save your answer as p1.a."
   ]
  },
  {
   "cell_type": "code",
   "execution_count": 4,
   "id": "f72f23ec",
   "metadata": {
    "deletable": false,
    "nbgrader": {
     "cell_type": "code",
     "checksum": "2320f22d79db5faa0057c3d8a96b7097",
     "grade": false,
     "grade_id": "cell-3f0a1219f7cfea59",
     "locked": false,
     "schema_version": 3,
     "solution": true,
     "task": false
    }
   },
   "outputs": [
    {
     "ename": "ERROR",
     "evalue": "Error: '.NotYetImplemented' is not implemented yet\n",
     "output_type": "error",
     "traceback": [
      "Error: '.NotYetImplemented' is not implemented yet\nTraceback:\n",
      "1. .NotYetImplemented()",
      "2. stop(gettextf(\"'%s' is not implemented yet\", as.character(sys.call(sys.parent())[[1L]])), \n .     call. = FALSE)"
     ]
    }
   ],
   "source": [
    "p1.a = NA\n",
    "\n",
    "# your code here\n",
    "p1.a = 3\n",
    ".NotYetImplemented()"
   ]
  },
  {
   "cell_type": "code",
   "execution_count": 5,
   "id": "ac8dfdc3",
   "metadata": {
    "deletable": false,
    "editable": false,
    "nbgrader": {
     "cell_type": "code",
     "checksum": "f3f2dbdb458271b30fec085bcdf762c5",
     "grade": true,
     "grade_id": "cell-327c04dc2f7b2769",
     "locked": true,
     "points": 1,
     "schema_version": 3,
     "solution": false,
     "task": false
    }
   },
   "outputs": [],
   "source": [
    "# Hidden Test Cell\n",
    "# NOTE: This cell contains hidden tests. You will not see whether you passed these tests until you submit your assignment.\n",
    "# Any cell labeled \"Hidden Test Cell\" MAY have hidden tests."
   ]
  },
  {
   "cell_type": "markdown",
   "id": "1215c387",
   "metadata": {
    "deletable": false,
    "editable": false,
    "nbgrader": {
     "cell_type": "markdown",
     "checksum": "2debbfdfe3a27987bfe099200fdbf90a",
     "grade": false,
     "grade_id": "cell-d3d59a15dca5805b",
     "locked": true,
     "schema_version": 3,
     "solution": false,
     "task": false
    }
   },
   "source": [
    "**Part B)** What are the communication classes? \n",
    "\n",
    "<br>\n",
    "In the next cell we define a matrix called \"classes\". Suppose that you have determined (for example) that there are two communication classes and that they are $\\{2,3,6\\}$ and $\\{1,4,5\\}$. We will enter these classes as rows in the matrix named \"classes\". Since the communication classes may be of unequal sizes, we have defined the matrix to always have $6$ columns and you may have trailing zeros in each row.\n",
    "\n",
    "For the autograder, make sure that\n",
    "\n",
    "<ul>\n",
    "<li>the elements in your classes are ordered. For example, use $\\{1,4,5\\}$ as opposed to $\\{4,1,5\\}$.</li>\n",
    "<li>the rows of your matrix are ordered by the first element of your classes\n",
    "</ul>\n",
    "\n",
    "Thus, if the communication classes are $\\{2,3,6\\}$ and $\\{1,4,5\\}$, the matrix \"classes\" should look like\n",
    "\n",
    "$$\n",
    "\\left[\n",
    "\\begin{array}{cccccc}\n",
    "1 & 4 & 5 & 0 & 0 & 0\\\\\n",
    "2 & 3 & 6 & 0 & 0 & 0\n",
    "\\end{array}\n",
    "\\right]\n",
    "$$\n",
    "    "
   ]
  },
  {
   "cell_type": "code",
   "execution_count": 6,
   "id": "9824b125",
   "metadata": {
    "deletable": false,
    "nbgrader": {
     "cell_type": "code",
     "checksum": "d49f679a79b564b4b81f7e5f4cf5047a",
     "grade": false,
     "grade_id": "cell-c54f0a03fa7fdf0c",
     "locked": false,
     "schema_version": 3,
     "solution": true,
     "task": false
    }
   },
   "outputs": [
    {
     "ename": "ERROR",
     "evalue": "Error in matrix(0, p1.a, 6): invalid 'nrow' value (too large or NA)\n",
     "output_type": "error",
     "traceback": [
      "Error in matrix(0, p1.a, 6): invalid 'nrow' value (too large or NA)\nTraceback:\n",
      "1. matrix(0, p1.a, 6)"
     ]
    }
   ],
   "source": [
    "classes = matrix(0,p1.a,6)\n",
    "# your code here\n",
    "classes = matrix(\n",
    "  c(\n",
    "    1,4,6,0,0,0,   # {1,4,6}\n",
    "    2,5,0,0,0,0,   # {2,5}\n",
    "    3,0,0,0,0,0    # {3}\n",
    "  ),\n",
    "  nrow = p1.a, byrow = TRUE\n",
    ")\n",
    "\n",
    ".NotYetImplemented()"
   ]
  },
  {
   "cell_type": "code",
   "execution_count": 7,
   "id": "10a9a6f3",
   "metadata": {
    "deletable": false,
    "editable": false,
    "nbgrader": {
     "cell_type": "code",
     "checksum": "b0a9f21726e4a941d0aafe20cd327a1c",
     "grade": true,
     "grade_id": "cell-19f326fc593c7f19",
     "locked": true,
     "points": 1,
     "schema_version": 3,
     "solution": false,
     "task": false
    }
   },
   "outputs": [],
   "source": [
    "# Hidden Test Cell\n",
    "# NOTE: This cell contains hidden tests. You will not see whether you passed these tests until you submit your assignment.\n",
    "# Any cell labeled \"Hidden Test Cell\" MAY have hidden tests."
   ]
  },
  {
   "cell_type": "markdown",
   "id": "efb0653f",
   "metadata": {
    "deletable": false,
    "editable": false,
    "nbgrader": {
     "cell_type": "markdown",
     "checksum": "db5c2e27f716654a0af2b2c905be0700",
     "grade": false,
     "grade_id": "cell-0146013d0453ff41",
     "locked": true,
     "schema_version": 3,
     "solution": false,
     "task": false
    }
   },
   "source": [
    "**Part C)** Find the period for each state.\n",
    "\n",
    "Save your answer as a vector called <code>p1.c</code> of length $6$, containing the period of states $1$, $2$, $3$, $4$, $5$, and $6$, respectively."
   ]
  },
  {
   "cell_type": "code",
   "execution_count": 8,
   "id": "f556b9c0",
   "metadata": {
    "deletable": false,
    "nbgrader": {
     "cell_type": "code",
     "checksum": "3295d4e20301f125e09adccb81b781fe",
     "grade": false,
     "grade_id": "cell-23bbb5cb2efb5fb0",
     "locked": false,
     "schema_version": 3,
     "solution": true,
     "task": false
    }
   },
   "outputs": [
    {
     "ename": "ERROR",
     "evalue": "Error: '.NotYetImplemented' is not implemented yet\n",
     "output_type": "error",
     "traceback": [
      "Error: '.NotYetImplemented' is not implemented yet\nTraceback:\n",
      "1. .NotYetImplemented()",
      "2. stop(gettextf(\"'%s' is not implemented yet\", as.character(sys.call(sys.parent())[[1L]])), \n .     call. = FALSE)"
     ]
    }
   ],
   "source": [
    "p1.c = NA\n",
    "# your code here\n",
    "# 都有自回邊（除了 6，但 6 與有自回邊的 1,4 同類，所以也為 1）\n",
    "p1.c = c(1,1,1,1,1,1)\n",
    "\n",
    ".NotYetImplemented()"
   ]
  },
  {
   "cell_type": "code",
   "execution_count": 9,
   "id": "a4edccc6",
   "metadata": {
    "deletable": false,
    "editable": false,
    "nbgrader": {
     "cell_type": "code",
     "checksum": "2a774c2494d702a8f02031d3d35ef031",
     "grade": true,
     "grade_id": "cell-ec6340876773dac0",
     "locked": true,
     "points": 1,
     "schema_version": 3,
     "solution": false,
     "task": false
    }
   },
   "outputs": [],
   "source": [
    "# Hidden Test Cell\n",
    "# NOTE: This cell contains hidden tests. You will not see whether you passed these tests until you submit your assignment.\n",
    "# Any cell labeled \"Hidden Test Cell\" MAY have hidden tests."
   ]
  },
  {
   "cell_type": "markdown",
   "id": "7e7eefba",
   "metadata": {
    "deletable": false,
    "editable": false,
    "nbgrader": {
     "cell_type": "markdown",
     "checksum": "d96725d328e57ae38cf193a5b2fb31b3",
     "grade": false,
     "grade_id": "cell-89901bf9008fa1be",
     "locked": true,
     "schema_version": 3,
     "solution": false,
     "task": false
    }
   },
   "source": [
    "**Part D)** Starting from state $3$, what is the approximate probability that this Markov chain ends up in states $1$, $2$, $3$, $4$, $5$, or $6$, in the long-run?\n",
    "\n",
    "Use the next cell to inspect high powers of the transition probability matrix until your answers are stable to three decimal places. Then move to the following cell to save your answer as a vector p1.d of length $6$, containing the observed long-run probability  states $1$, $2$, $3$, $4$, $5$, and $6$, respectively."
   ]
  },
  {
   "cell_type": "code",
   "execution_count": 10,
   "id": "92982718",
   "metadata": {},
   "outputs": [],
   "source": [
    "# Use this cell to take some high powers of the transition probability matrix P.\n"
   ]
  },
  {
   "cell_type": "code",
   "execution_count": 11,
   "id": "7a3a59f2",
   "metadata": {
    "deletable": false,
    "nbgrader": {
     "cell_type": "code",
     "checksum": "02b9117e8c370560d8072c9f47d0ddf0",
     "grade": false,
     "grade_id": "cell-3e32ff19d22f03f1",
     "locked": false,
     "schema_version": 3,
     "solution": true,
     "task": false
    }
   },
   "outputs": [
    {
     "ename": "ERROR",
     "evalue": "Error: '.NotYetImplemented' is not implemented yet\n",
     "output_type": "error",
     "traceback": [
      "Error: '.NotYetImplemented' is not implemented yet\nTraceback:\n",
      "1. .NotYetImplemented()",
      "2. stop(gettextf(\"'%s' is not implemented yet\", as.character(sys.call(sys.parent())[[1L]])), \n .     call. = FALSE)"
     ]
    }
   ],
   "source": [
    "p1.d = NA\n",
    "# your code here\n",
    "# 這是穩定到 3 位小數的數值\n",
    "p1.d = c(0.404313, 0.204082, 0.000000, 0.269542, 0.081633, 0.040431)\n",
    "\n",
    ".NotYetImplemented()"
   ]
  },
  {
   "cell_type": "code",
   "execution_count": null,
   "id": "d246d295",
   "metadata": {
    "deletable": false,
    "editable": false,
    "nbgrader": {
     "cell_type": "code",
     "checksum": "98ce54d2e70977f33ace0327a5056b6a",
     "grade": true,
     "grade_id": "cell-3447d11af9b49e94",
     "locked": true,
     "points": 1,
     "schema_version": 3,
     "solution": false,
     "task": false
    }
   },
   "outputs": [],
   "source": [
    "# Hidden Test Cell\n",
    "# NOTE: This cell contains hidden tests. You will not see whether you passed these tests until you submit your assignment.\n",
    "# Any cell labeled \"Hidden Test Cell\" MAY have hidden tests."
   ]
  },
  {
   "cell_type": "markdown",
   "id": "1a0dd5b7",
   "metadata": {
    "deletable": false,
    "editable": false,
    "nbgrader": {
     "cell_type": "markdown",
     "checksum": "8cce7caa91735ab55e1a70830e56bdb6",
     "grade": false,
     "grade_id": "cell-2db4eee1def81933",
     "locked": true,
     "schema_version": 3,
     "solution": false,
     "task": false
    }
   },
   "source": [
    "# Problem 2\n",
    "\n",
    "In a simplified model, the weather in a small town changes from day to day according to a Markov chain on states $1$, $2$, $3$, $4$ and $5$ where\n",
    "\n",
    "<ul>\n",
    "    <li> 1 = Sunny</li>\n",
    "    <li> 2 = Cloudy</li>\n",
    "    <li> 3 = Partly Cloudy</li>\n",
    "    <li> 4 = Precipitation</li>\n",
    "    <li> 5 = Falling kittens</li>\n",
    "</ul>\n",
    "\n",
    "Based on historical data, the transition probability matrix is <br>\n",
    "\n",
    "$$\n",
    "\\begin{array}{lcr} && 1\\,\\,\\,\\,\\,\\,\\,\\,\\,\\,2\\,\\,\\,\\,\\,\\,\\,\\,\\,\\,3\\,\\,\\,\\,\\,\\,\\,\\,\\,\\,4\\,\\,\\,\\,\\,\\,\\,\\,\\,5\\,\\,\\,\\,\\,\\\\\n",
    "\\bf{P} &=& \\begin{array}{c} 1\\\\2\\\\3\\\\4\\\\5\\end{array}\\left[ \n",
    "\\begin{array}{ccccc}\n",
    "0.4 & 0.2 & 0.3 & 0.1&0 \\\\\n",
    "0.1 & 0.3 & 0.3 & 0.2 &0.1\\\\\n",
    "0.3 & 0.3 & 0.2 & 0.2&0 \\\\\n",
    "0.1 & 0.2 & 0.2 & 0.4&0.1\\\\\n",
    "0.9 & 0 & 0 & 0&0.1\\\\\n",
    "\\end{array}\n",
    "\\right]\n",
    "\\end{array}\n",
    "$$\n",
    "\n",
    "Run the next cell to define the matrix."
   ]
  },
  {
   "cell_type": "code",
   "execution_count": null,
   "id": "c35e00a3",
   "metadata": {
    "deletable": false,
    "editable": false,
    "nbgrader": {
     "cell_type": "code",
     "checksum": "1f2fccfc135f21b4ab04e50c2e630223",
     "grade": false,
     "grade_id": "cell-53aa4732a429f541",
     "locked": true,
     "schema_version": 3,
     "solution": false,
     "task": false
    }
   },
   "outputs": [],
   "source": [
    "# Run this cell. Consider adding a \"P\" as the last line in the cell\n",
    "# if you would like to see the matrix more clearly\n",
    "P = matrix(0,5,5)\n",
    "P[1,] = c(0.4,0.2,0.3,0.1,0)\n",
    "P[2,] = c(0.1,0.3,0.3,0.2,0.1)\n",
    "P[3,] = c(0.3,0.3,0.2,0.2,0)\n",
    "P[4,] = c(0.1,0.2,0.2,0.4,0.1)\n",
    "P[5,] = c(0.9,0,0,0,0.1)"
   ]
  },
  {
   "cell_type": "markdown",
   "id": "ca72e517",
   "metadata": {
    "deletable": false,
    "editable": false,
    "nbgrader": {
     "cell_type": "markdown",
     "checksum": "a153cc3d8d35a3d2322af6cb93f32fb5",
     "grade": false,
     "grade_id": "cell-264d7496c21d391c",
     "locked": true,
     "schema_version": 3,
     "solution": false,
     "task": false
    }
   },
   "source": [
    "**Part A)** Is this chain irreducible? Aperiodic? Recurrent? Positive recurrent? \n",
    "\n",
    "Your answers should be in the form <code>TRUE</code> or <code>FALSE</code>. Capitalization matters when defining boolean variables in R. Record your answers as <code>p2.a.irreducible</code>, <code>p2.a.aperiodic</code>, <code>p2.a.recurrent</code>, and <code>p2.a.posrecurrent</code>."
   ]
  },
  {
   "cell_type": "code",
   "execution_count": null,
   "id": "d5fa069b",
   "metadata": {
    "deletable": false,
    "nbgrader": {
     "cell_type": "code",
     "checksum": "67ab4e691bbeefdc11c89e63311f0bf6",
     "grade": false,
     "grade_id": "cell-1f50e5ed73ff0be1",
     "locked": false,
     "schema_version": 3,
     "solution": true,
     "task": false
    }
   },
   "outputs": [],
   "source": [
    "p2.a.irreducible = NA\n",
    "p2.a.aperiodic = NA\n",
    "p2.a.recurrent = NA\n",
    "p2.a.posrecurrent = NA\n",
    "# your code here\n",
    "p2.a.irreducible  <- TRUE\n",
    "p2.a.aperiodic    <- TRUE\n",
    "p2.a.recurrent    <- TRUE\n",
    "p2.a.posrecurrent <- TRUE\n",
    ".NotYetImplemented()\n"
   ]
  },
  {
   "cell_type": "code",
   "execution_count": null,
   "id": "307210cf",
   "metadata": {
    "deletable": false,
    "editable": false,
    "nbgrader": {
     "cell_type": "code",
     "checksum": "116646618320c35bbf20478ad50c0ea9",
     "grade": true,
     "grade_id": "cell-64e0b75019b857cf",
     "locked": true,
     "points": 1,
     "schema_version": 3,
     "solution": false,
     "task": false
    }
   },
   "outputs": [],
   "source": [
    "# Hidden Test Cell\n",
    "# NOTE: This cell contains hidden tests. You will not see whether you passed these tests until you submit your assignment.\n",
    "# Any cell labeled \"Hidden Test Cell\" MAY have hidden tests."
   ]
  },
  {
   "cell_type": "markdown",
   "id": "cd79dffb",
   "metadata": {},
   "source": [
    "**Part B)** Find the long-run proportion of days there will be falling kittens. \n",
    "\n",
    "Save your answer as p2.b.\n",
    "(Reminder: Give all answers to at least 3 decimal places.)"
   ]
  },
  {
   "cell_type": "code",
   "execution_count": null,
   "id": "c464230d",
   "metadata": {
    "deletable": false,
    "nbgrader": {
     "cell_type": "code",
     "checksum": "dd4162e2c15b9fa2b34d79875be93d2a",
     "grade": false,
     "grade_id": "cell-3a68f8b55856aa7a",
     "locked": false,
     "schema_version": 3,
     "solution": true,
     "task": false
    }
   },
   "outputs": [],
   "source": [
    "p2.b = NA\n",
    "# your code here\n",
    "p2.b <- 0.049\n",
    ".NotYetImplemented()"
   ]
  },
  {
   "cell_type": "code",
   "execution_count": null,
   "id": "71424e29",
   "metadata": {
    "deletable": false,
    "editable": false,
    "nbgrader": {
     "cell_type": "code",
     "checksum": "804aa8a5318fc09b4a3d9b1777cba831",
     "grade": true,
     "grade_id": "cell-ab75b742e6436657",
     "locked": true,
     "points": 1,
     "schema_version": 3,
     "solution": false,
     "task": false
    }
   },
   "outputs": [],
   "source": [
    "# Hidden Test Cell\n",
    "# NOTE: This cell contains hidden tests. You will not see whether you passed these tests until you submit your assignment.\n",
    "# Any cell labeled \"Hidden Test Cell\" MAY have hidden tests."
   ]
  },
  {
   "cell_type": "markdown",
   "id": "431910ea",
   "metadata": {
    "deletable": false,
    "editable": false,
    "nbgrader": {
     "cell_type": "markdown",
     "checksum": "dd1f61927459fca51c6813c75cdda0f9",
     "grade": false,
     "grade_id": "cell-27ce4895543b575c",
     "locked": true,
     "schema_version": 3,
     "solution": false,
     "task": false
    }
   },
   "source": [
    "**Part C)** Find the long-run proportion of days there will be falling kittens followed by a Sunny day. \n",
    "\n",
    "Save your answer as p2.c."
   ]
  },
  {
   "cell_type": "code",
   "execution_count": null,
   "id": "d0113bd4",
   "metadata": {
    "deletable": false,
    "nbgrader": {
     "cell_type": "code",
     "checksum": "8aa4f52f47a44a4fbd6a6a70e23de4a9",
     "grade": false,
     "grade_id": "cell-4dca6dde98e0a371",
     "locked": false,
     "schema_version": 3,
     "solution": true,
     "task": false
    }
   },
   "outputs": [],
   "source": [
    "p2.c = NA\n",
    "# your code here\n",
    "p2.c <- 0.044 \n",
    ".NotYetImplemented()"
   ]
  },
  {
   "cell_type": "code",
   "execution_count": null,
   "id": "a3964de0",
   "metadata": {
    "deletable": false,
    "editable": false,
    "nbgrader": {
     "cell_type": "code",
     "checksum": "aee455b887ed8721860fe5107af26c5a",
     "grade": true,
     "grade_id": "cell-921ae2fd21fe7bec",
     "locked": true,
     "points": 1,
     "schema_version": 3,
     "solution": false,
     "task": false
    }
   },
   "outputs": [],
   "source": [
    "# Hidden Test Cell\n",
    "# NOTE: This cell contains hidden tests. You will not see whether you passed these tests until you submit your assignment.\n",
    "# Any cell labeled \"Hidden Test Cell\" MAY have hidden tests."
   ]
  },
  {
   "cell_type": "markdown",
   "id": "62e4ef19",
   "metadata": {
    "deletable": false,
    "editable": false,
    "nbgrader": {
     "cell_type": "markdown",
     "checksum": "dac68f6af5ee540f11ac13a780ce3eec",
     "grade": false,
     "grade_id": "cell-0c19f9f8d2894e61",
     "locked": true,
     "schema_version": 3,
     "solution": false,
     "task": false
    }
   },
   "source": [
    "**Part D)** What is the most likely state to find this chain in in the long-run? The next most likely? The least likely?\n",
    "\n",
    "Define a vector-valued variable <code>p2.d</code> of length $5$ that gives the corresponding rankings for states $1$ through $5$, respectively. For example, if \"Sunny\" is the third most likely state, the first value of p2.d should be $3$. As always in the notebooks for this course, it is fine to observe what is going on and to fill out the vector \"by hand\" rather than coding something that will give these rankings.\n"
   ]
  },
  {
   "cell_type": "code",
   "execution_count": null,
   "id": "6ad39ef7",
   "metadata": {},
   "outputs": [],
   "source": [
    "# This is a free cell for you to experiment in.\n"
   ]
  },
  {
   "cell_type": "code",
   "execution_count": null,
   "id": "62ba06e3",
   "metadata": {
    "deletable": false,
    "nbgrader": {
     "cell_type": "code",
     "checksum": "8f8b324937506b84e7d83d19b08b123b",
     "grade": false,
     "grade_id": "cell-96c173f39ddabcb4",
     "locked": false,
     "schema_version": 3,
     "solution": true,
     "task": false
    }
   },
   "outputs": [],
   "source": [
    "p2.d = NA\n",
    "# your code here\n",
    "p2.d <- c(1, 3, 2, 4, 5)\n",
    ".NotYetImplemented()"
   ]
  },
  {
   "cell_type": "code",
   "execution_count": null,
   "id": "3794ab99",
   "metadata": {
    "deletable": false,
    "editable": false,
    "nbgrader": {
     "cell_type": "code",
     "checksum": "2e32a182409f44b5442adb2467715cc7",
     "grade": true,
     "grade_id": "cell-25fed80e2c93ce2d",
     "locked": true,
     "points": 1,
     "schema_version": 3,
     "solution": false,
     "task": false
    }
   },
   "outputs": [],
   "source": [
    "# Hidden Test Cell\n",
    "# NOTE: This cell contains hidden tests. You will not see whether you passed these tests until you submit your assignment.\n",
    "# Any cell labeled \"Hidden Test Cell\" MAY have hidden tests."
   ]
  },
  {
   "cell_type": "code",
   "execution_count": null,
   "id": "c659e5c3",
   "metadata": {},
   "outputs": [],
   "source": []
  }
 ],
 "metadata": {
  "kernelspec": {
   "display_name": "R",
   "language": "R",
   "name": "ir"
  },
  "language_info": {
   "codemirror_mode": "r",
   "file_extension": ".r",
   "mimetype": "text/x-r-source",
   "name": "R",
   "pygments_lexer": "r",
   "version": "4.2.2"
  }
 },
 "nbformat": 4,
 "nbformat_minor": 5
}
