{
 "cells": [
  {
   "cell_type": "markdown",
   "id": "a06b55b2",
   "metadata": {
    "deletable": false,
    "editable": false,
    "nbgrader": {
     "cell_type": "markdown",
     "checksum": "2781301b85511740bfd512e7346763c3",
     "grade": false,
     "grade_id": "cell-0bd9b2308dd65147",
     "locked": true,
     "schema_version": 3,
     "solution": false,
     "task": false
    }
   },
   "source": [
    "# Summary Assignment for Module 3\n",
    "<blockquote>This is an assignment in a Jupyter notebook which will be autograded. (It is not a programming assignment but rather is using tools from a Jupyter notebook that allows for calculations and more free-form answers than the other kinds of assignments you have seen so far in this course.) To avoid autograder errors, please do not add or delete any cells. Also, <b>run all cells even if they are hidden</b> and not requiring any input from you. You may add additional calulations or print statements to any cell to help you see the current values of variables you may be working with.\n",
    "</blockquote>\n",
    "\n",
    "**Rounding Error:** Ideally, your answers will be given from a direct Python calculation. For example, given a $2 \\times 2$ array $A$, if you are asked to multiply the $(1,3)$ entry with the $(2,2)$ entry and to store the result in a variable `x`, you would type\n",
    "\n",
    "<code>x = A[1,3]*A[2,2]</code>\n",
    "\n",
    "(Recall that Python uses zero-based indexing so the $(1,3)$ entry is actually coming from the second row.)\n",
    "\n",
    "However, if you compute `A[1,3]*A[2,2]` and see `0.23719445178`, you could choose to type out the answer as, for example,\n",
    "\n",
    "<code>x = 0.23719445</code>\n",
    "\n",
    "<u>as long as you keep at least 3 decimal places of accuracy</u>.\n"
   ]
  },
  {
   "cell_type": "code",
   "execution_count": 12,
   "id": "e4a42cc9",
   "metadata": {
    "deletable": false,
    "editable": false,
    "nbgrader": {
     "cell_type": "code",
     "checksum": "c40c8b4d3ea15ac79694beff5dee097e",
     "grade": false,
     "grade_id": "cell-9a49acb0aa1ff7cc",
     "locked": true,
     "schema_version": 3,
     "solution": false,
     "task": false
    }
   },
   "outputs": [],
   "source": [
    "# Run this cell to import the NumPy library with the name \"np\" and a\n",
    "# testing library that will be used by the autograder\n",
    "import numpy as np\n",
    "import numpy.testing as npt"
   ]
  },
  {
   "cell_type": "markdown",
   "id": "81599efb",
   "metadata": {
    "deletable": false,
    "editable": false,
    "nbgrader": {
     "cell_type": "markdown",
     "checksum": "65255354bf1a5178b10ee4b7210ec614",
     "grade": false,
     "grade_id": "cell-c383658c5eca3313",
     "locked": true,
     "schema_version": 3,
     "solution": false,
     "task": false
    }
   },
   "source": [
    "# Problem 1\n",
    "\n",
    "Consider a Markov chain on state space $S = \\{1,2,3,4,5,6\\}$ with probability transition matrix given by <br><br>\n",
    "\n",
    "$$\n",
    "\\begin{array}{lcr}  &&1\\,\\,\\,\\,\\,\\,\\,\\,\\,\\,2\\,\\,\\,\\,\\,\\,\\,\\,\\,\\,3\\,\\,\\,\\,\\,\\,\\,\\,\\,\\,4\\,\\,\\,\\,\\,\\,\\,\\,\\,\\,5\\,\\,\\,\\,\\,\\,\\,\\,\\,\\,6\\,\\,\\,\\,\\,\\\\\n",
    "\\bf{P} &=& \\begin{array}{c} 1\\\\2\\\\3\\\\4\\\\5\\\\6\\end{array}\\left[ \n",
    "\\begin{array}{cccccc}\n",
    "0.4 & 0 & 0 & 0.5 & 0 & 0.1\\\\\n",
    "0 & 0.8 & 0 & 0 & 0.2 & 0\\\\\n",
    "0 & 0 & 0.3 & 0.5 & 0.2 & 0\\\\\n",
    "0.9 & 0 & 0 & 0.1 & 0 & 0\\\\\n",
    "0 & 0.5 & 0 & 0 & 0.5 & 0\\\\\n",
    "0 & 0 & 0 & 1 & 0 & 0\\\\\n",
    "\\end{array}\n",
    "\\right]\n",
    "\\end{array}\n",
    "$$\n",
    "\n",
    "\n",
    "Run the next cell to define the matrix."
   ]
  },
  {
   "cell_type": "code",
   "execution_count": 13,
   "id": "c7d52215",
   "metadata": {},
   "outputs": [],
   "source": [
    "P = np.zeros((6,6))  # Create a 4x4 array of zeros. Consider adding a \"P\" as the last line of this cell \n",
    "                     # if you want to see/check your matrix\n",
    "P[0,:] = np.array([0.4,0,0,0.5,0,0.1])\n",
    "P[1,:] = np.array([0,0.8,0,0,0.2,0])\n",
    "P[2,:] = np.array([0,0,0.3,0.5,0.2,0])\n",
    "P[3,:] = np.array([0.9,0,0,0.1,0,0])\n",
    "P[4,:] = np.array([0,0.5,0,0,0.5,0])\n",
    "P[5,:] = np.array([0,0,0,1,0,0])"
   ]
  },
  {
   "cell_type": "markdown",
   "id": "7870be0c",
   "metadata": {
    "deletable": false,
    "editable": false,
    "nbgrader": {
     "cell_type": "markdown",
     "checksum": "c88fdd8113275a2bdf7b8440154bbda8",
     "grade": false,
     "grade_id": "cell-951e3e230cc38565",
     "locked": true,
     "schema_version": 3,
     "solution": false,
     "task": false
    }
   },
   "source": [
    "**Part A)** How many communication classes does this Markov chain have?\n",
    "\n",
    "Save your answer as p1_a."
   ]
  },
  {
   "cell_type": "code",
   "execution_count": 14,
   "id": "4e35a809",
   "metadata": {
    "deletable": false,
    "nbgrader": {
     "cell_type": "code",
     "checksum": "78a182702270158e3d04d527426875ce",
     "grade": false,
     "grade_id": "cell-b31048c2378b31c8",
     "locked": false,
     "schema_version": 3,
     "solution": true,
     "task": false
    }
   },
   "outputs": [
    {
     "ename": "NotImplementedError",
     "evalue": "",
     "output_type": "error",
     "traceback": [
      "\u001b[0;31m---------------------------------------------------------------------------\u001b[0m",
      "\u001b[0;31mNotImplementedError\u001b[0m                       Traceback (most recent call last)",
      "Cell \u001b[0;32mIn[14], line 6\u001b[0m\n\u001b[1;32m      3\u001b[0m \u001b[38;5;66;03m# your code here\u001b[39;00m\n\u001b[1;32m      4\u001b[0m p1_a \u001b[38;5;241m=\u001b[39m \u001b[38;5;241m3\u001b[39m\n\u001b[0;32m----> 6\u001b[0m \u001b[38;5;28;01mraise\u001b[39;00m \u001b[38;5;167;01mNotImplementedError\u001b[39;00m\n",
      "\u001b[0;31mNotImplementedError\u001b[0m: "
     ]
    }
   ],
   "source": [
    "p1_a = None\n",
    "\n",
    "# your code here\n",
    "p1_a = 3\n",
    "\n",
    "raise NotImplementedError"
   ]
  },
  {
   "cell_type": "code",
   "execution_count": 4,
   "id": "5314476a",
   "metadata": {
    "deletable": false,
    "editable": false,
    "nbgrader": {
     "cell_type": "code",
     "checksum": "5c0473b01a59b5a4af9f09efdde90514",
     "grade": true,
     "grade_id": "cell-25450a6f0d181422",
     "locked": true,
     "points": 1,
     "schema_version": 3,
     "solution": false,
     "task": false
    }
   },
   "outputs": [],
   "source": [
    "# Hidden Test Cell (Run this cell!)\n",
    "# NOTE: This cell contains hidden tests. You will not see whether you passed these tests until you submit your assignment.\n",
    "# Any cell labeled \"Hidden Test Cell\" MAY have hidden tests."
   ]
  },
  {
   "cell_type": "markdown",
   "id": "8ee8213a",
   "metadata": {
    "deletable": false,
    "editable": false,
    "nbgrader": {
     "cell_type": "markdown",
     "checksum": "b3f0ddb43a12afc24c509434d4a0c4dd",
     "grade": false,
     "grade_id": "cell-abc9ef21ac817a24",
     "locked": true,
     "schema_version": 3,
     "solution": false,
     "task": false
    }
   },
   "source": [
    "**Part B)** What are the communication classes? \n",
    "\n",
    "<br>\n",
    "In the next cell we define a matrix called \"classes\". Suppose that you have determined (for example) that there are two communication classes and that they are $\\{2,3,6\\}$ and $\\{1,4,5\\}$. We will enter these classes as rows in the matrix named \"classes\". Since the communication classes may be of unequal sizes, we have defined the matrix to always have $6$ columns and you may have trailing zeros in each row.\n",
    "\n",
    "For the autograder, make sure that\n",
    "\n",
    "<ul>\n",
    "<li>the elements in your classes are ordered. For example, use $\\{1,4,5\\}$ as opposed to $\\{4,1,5\\}$.</li>\n",
    "<li>the rows of your matrix are ordered by the first element of your classes\n",
    "</ul>\n",
    "\n",
    "Thus, if the communication classes are $\\{2,3,6\\}$ and $\\{1,4,5\\}$, the matrix \"classes\" should look like\n",
    "\n",
    "$$\n",
    "\\left[\n",
    "\\begin{array}{cccccc}\n",
    "1 & 4 & 5 & 0 & 0 & 0\\\\\n",
    "2 & 3 & 6 & 0 & 0 & 0\n",
    "\\end{array}\n",
    "\\right]\n",
    "$$"
   ]
  },
  {
   "cell_type": "code",
   "execution_count": 5,
   "id": "e3d98b64",
   "metadata": {
    "deletable": false,
    "nbgrader": {
     "cell_type": "code",
     "checksum": "92eea004516f7701e3e61c8def91c107",
     "grade": false,
     "grade_id": "cell-187d0e214f3a9c1f",
     "locked": false,
     "schema_version": 3,
     "solution": true,
     "task": false
    }
   },
   "outputs": [
    {
     "ename": "TypeError",
     "evalue": "'NoneType' object cannot be interpreted as an integer",
     "output_type": "error",
     "traceback": [
      "\u001b[0;31m---------------------------------------------------------------------------\u001b[0m",
      "\u001b[0;31mTypeError\u001b[0m                                 Traceback (most recent call last)",
      "Cell \u001b[0;32mIn[5], line 1\u001b[0m\n\u001b[0;32m----> 1\u001b[0m classes \u001b[38;5;241m=\u001b[39m \u001b[43mnp\u001b[49m\u001b[38;5;241;43m.\u001b[39;49m\u001b[43mzeros\u001b[49m\u001b[43m(\u001b[49m\u001b[43m(\u001b[49m\u001b[43mp1_a\u001b[49m\u001b[43m,\u001b[49m\u001b[43m \u001b[49m\u001b[38;5;241;43m6\u001b[39;49m\u001b[43m)\u001b[49m\u001b[43m)\u001b[49m\n\u001b[1;32m      2\u001b[0m \u001b[38;5;66;03m# your code here\u001b[39;00m\n\u001b[1;32m      3\u001b[0m \u001b[38;5;28;01mraise\u001b[39;00m \u001b[38;5;167;01mNotImplementedError\u001b[39;00m\n",
      "\u001b[0;31mTypeError\u001b[0m: 'NoneType' object cannot be interpreted as an integer"
     ]
    }
   ],
   "source": [
    "classes = np.zeros((p1_a, 6))\n",
    "# your code here\n",
    "classes = np.array([\n",
    "    [1, 4, 6, 0, 0, 0],\n",
    "    [2, 5, 0, 0, 0, 0],\n",
    "    [3, 0, 0, 0, 0, 0],\n",
    "], dtype=int)\n",
    "raise NotImplementedError"
   ]
  },
  {
   "cell_type": "code",
   "execution_count": 6,
   "id": "62dd5547",
   "metadata": {
    "deletable": false,
    "editable": false,
    "nbgrader": {
     "cell_type": "code",
     "checksum": "06624c5cee16b185015ee1b992d2dfcd",
     "grade": true,
     "grade_id": "cell-8cac4981ae2fd373",
     "locked": true,
     "points": 1,
     "schema_version": 3,
     "solution": false,
     "task": false
    }
   },
   "outputs": [],
   "source": [
    "# Hidden Test Cell\n",
    "# NOTE: This cell contains hidden tests. You will not see whether you passed these tests until you submit your assignment.\n",
    "# Any cell labeled \"Hidden Test Cell\" MAY have hidden tests."
   ]
  },
  {
   "cell_type": "markdown",
   "id": "3e87f00e",
   "metadata": {
    "deletable": false,
    "editable": false,
    "nbgrader": {
     "cell_type": "markdown",
     "checksum": "0e2ede7e540b0d11b26c3fd72e4163da",
     "grade": false,
     "grade_id": "cell-eb15c5b7a88e6266",
     "locked": true,
     "schema_version": 3,
     "solution": false,
     "task": false
    }
   },
   "source": [
    "**Part C)** Find the period for each state.\n",
    "\n",
    "Save your answer as a vector called <code>p1_c</code> of length $6$, containing the period of states $1$, $2$, $3$, $4$, $5$, and $6$, respectively."
   ]
  },
  {
   "cell_type": "code",
   "execution_count": 7,
   "id": "20bbc5c9",
   "metadata": {
    "deletable": false,
    "nbgrader": {
     "cell_type": "code",
     "checksum": "c60f58565035bf7374e119b2ff9491b6",
     "grade": false,
     "grade_id": "cell-2b928d521ffb934c",
     "locked": false,
     "schema_version": 3,
     "solution": true,
     "task": false
    }
   },
   "outputs": [
    {
     "ename": "NotImplementedError",
     "evalue": "",
     "output_type": "error",
     "traceback": [
      "\u001b[0;31m---------------------------------------------------------------------------\u001b[0m",
      "\u001b[0;31mNotImplementedError\u001b[0m                       Traceback (most recent call last)",
      "Cell \u001b[0;32mIn[7], line 3\u001b[0m\n\u001b[1;32m      1\u001b[0m p1_c \u001b[38;5;241m=\u001b[39m \u001b[38;5;28;01mNone\u001b[39;00m\n\u001b[1;32m      2\u001b[0m \u001b[38;5;66;03m# your code here\u001b[39;00m\n\u001b[0;32m----> 3\u001b[0m \u001b[38;5;28;01mraise\u001b[39;00m \u001b[38;5;167;01mNotImplementedError\u001b[39;00m\n",
      "\u001b[0;31mNotImplementedError\u001b[0m: "
     ]
    }
   ],
   "source": [
    "p1_c = None\n",
    "# your code here\n",
    "p1_c = np.array([1, 1, 1, 1, 1, 1], dtype=int)\n",
    "\n",
    "raise NotImplementedError"
   ]
  },
  {
   "cell_type": "code",
   "execution_count": 8,
   "id": "9f8bd2c0",
   "metadata": {
    "deletable": false,
    "editable": false,
    "nbgrader": {
     "cell_type": "code",
     "checksum": "03ed89e50a79a7c66527283f1b43f849",
     "grade": true,
     "grade_id": "cell-d911ad41520b489e",
     "locked": true,
     "points": 1,
     "schema_version": 3,
     "solution": false,
     "task": false
    }
   },
   "outputs": [],
   "source": [
    "# Hidden Test Cell\n",
    "# NOTE: This cell contains hidden tests. You will not see whether you passed these tests until you submit your assignment.\n",
    "# Any cell labeled \"Hidden Test Cell\" MAY have hidden tests."
   ]
  },
  {
   "cell_type": "markdown",
   "id": "459f6da9",
   "metadata": {
    "deletable": false,
    "editable": false,
    "nbgrader": {
     "cell_type": "markdown",
     "checksum": "4db53b006b3661c3bde4edc7d9cd20e9",
     "grade": false,
     "grade_id": "cell-f0a343519402778c",
     "locked": true,
     "schema_version": 3,
     "solution": false,
     "task": false
    }
   },
   "source": [
    "**Part D)** Starting from state $3$, what is the approximate probability that this Markov chain ends up in states $1$, $2$, $3$, $4$, $5$, or $6$, in the long-run?\n",
    "\n",
    "Use the next cell to inspect high powers of the transition probability matrix until your answers are stable to three decimal places. Then move to the following cell to save your answer as a vector p1_d of length $6$, containing the observed long-run probability  states $1$, $2$, $3$, $4$, $5$, and $6$, respectively."
   ]
  },
  {
   "cell_type": "code",
   "execution_count": 9,
   "id": "266d15c3",
   "metadata": {},
   "outputs": [],
   "source": [
    "# Use this cell to take some high powers of the transition probability matrix P.\n"
   ]
  },
  {
   "cell_type": "code",
   "execution_count": 10,
   "id": "98d5244c",
   "metadata": {
    "deletable": false,
    "nbgrader": {
     "cell_type": "code",
     "checksum": "38e2e40b82d11ffd171179f68a234603",
     "grade": false,
     "grade_id": "cell-c1ce9ffae52f8570",
     "locked": false,
     "schema_version": 3,
     "solution": true,
     "task": false
    }
   },
   "outputs": [
    {
     "ename": "NotImplementedError",
     "evalue": "",
     "output_type": "error",
     "traceback": [
      "\u001b[0;31m---------------------------------------------------------------------------\u001b[0m",
      "\u001b[0;31mNotImplementedError\u001b[0m                       Traceback (most recent call last)",
      "Cell \u001b[0;32mIn[10], line 3\u001b[0m\n\u001b[1;32m      1\u001b[0m p1_d \u001b[38;5;241m=\u001b[39m \u001b[38;5;28;01mNone\u001b[39;00m\n\u001b[1;32m      2\u001b[0m \u001b[38;5;66;03m# your code here\u001b[39;00m\n\u001b[0;32m----> 3\u001b[0m \u001b[38;5;28;01mraise\u001b[39;00m \u001b[38;5;167;01mNotImplementedError\u001b[39;00m\n",
      "\u001b[0;31mNotImplementedError\u001b[0m: "
     ]
    }
   ],
   "source": [
    "p1_d = None\n",
    "# your code here\n",
    "p1_d = np.array([\n",
    "    0.40431267,  # state 1\n",
    "    0.20408163,  # state 2\n",
    "    0.0,         # state 3 (瞬態，極限為0)\n",
    "    0.26954178,  # state 4\n",
    "    0.08163265,  # state 5\n",
    "    0.04043127   # state 6\n",
    "])\n",
    "raise NotImplementedError"
   ]
  },
  {
   "cell_type": "code",
   "execution_count": 11,
   "id": "485587cd",
   "metadata": {
    "deletable": false,
    "editable": false,
    "nbgrader": {
     "cell_type": "code",
     "checksum": "a8255b9e866bda6095efc54fba0c6802",
     "grade": true,
     "grade_id": "cell-d516162428f0d161",
     "locked": true,
     "points": 1,
     "schema_version": 3,
     "solution": false,
     "task": false
    }
   },
   "outputs": [],
   "source": [
    "# Hidden Test Cell\n",
    "# NOTE: This cell contains hidden tests. You will not see whether you passed these tests until you submit your assignment.\n",
    "# Any cell labeled \"Hidden Test Cell\" MAY have hidden tests."
   ]
  },
  {
   "cell_type": "markdown",
   "id": "814638fe",
   "metadata": {
    "deletable": false,
    "editable": false,
    "nbgrader": {
     "cell_type": "markdown",
     "checksum": "b148240c5ed78aa95ea2b5acebcc7341",
     "grade": false,
     "grade_id": "cell-b144c5a701d117c8",
     "locked": true,
     "schema_version": 3,
     "solution": false,
     "task": false
    }
   },
   "source": [
    "# Problem 2\n",
    "\n",
    "In a simplified model, the weather in a small town changes from day to day according to a Markov chain on states $1$, $2$, $3$, $4$ and $5$ where\n",
    "\n",
    "<ul>\n",
    "    <li> 1 = Sunny</li>\n",
    "    <li> 2 = Cloudy</li>\n",
    "    <li> 3 = Partly Cloudy</li>\n",
    "    <li> 4 = Precipitation</li>\n",
    "    <li> 5 = Falling kittens</li>\n",
    "</ul>\n",
    "\n",
    "Based on historical data, the transition probability matrix is <br>\n",
    "\n",
    "$$\n",
    "\\begin{array}{lcr} && 1\\,\\,\\,\\,\\,\\,\\,\\,\\,\\,2\\,\\,\\,\\,\\,\\,\\,\\,\\,\\,3\\,\\,\\,\\,\\,\\,\\,\\,\\,\\,4\\,\\,\\,\\,\\,\\,\\,\\,\\,5\\,\\,\\,\\,\\,\\\\\n",
    "\\bf{P} &=& \\begin{array}{c} 1\\\\2\\\\3\\\\4\\\\5\\end{array}\\left[ \n",
    "\\begin{array}{ccccc}\n",
    "0.4 & 0.2 & 0.3 & 0.1&0 \\\\\n",
    "0.1 & 0.3 & 0.3 & 0.2 &0.1\\\\\n",
    "0.3 & 0.3 & 0.2 & 0.2&0 \\\\\n",
    "0.1 & 0.2 & 0.2 & 0.4&0.1\\\\\n",
    "0.9 & 0 & 0 & 0&0.1\\\\\n",
    "\\end{array}\n",
    "\\right]\n",
    "\\end{array}\n",
    "$$\n",
    "\n",
    "Run the next cell to define the matrix."
   ]
  },
  {
   "cell_type": "code",
   "execution_count": 15,
   "id": "e1a22388",
   "metadata": {},
   "outputs": [],
   "source": [
    "# Run this cell. Consider adding a \"P\" as the last line in the cell\n",
    "# if you would like to see the matrix more clearly\n",
    "P = np.zeros((5,5))\n",
    "P[0,:] = np.array([0.4,0.2,0.3,0.1,0])\n",
    "P[1,:] = np.array([0.1,0.3,0.3,0.2,0.1])\n",
    "P[2,:] = np.array([0.3,0.3,0.2,0.2,0])\n",
    "P[3,:] = np.array([0.1,0.2,0.2,0.4,0.1])\n",
    "P[4,:] = np.array([0.9,0,0,0,0.1])"
   ]
  },
  {
   "cell_type": "markdown",
   "id": "66d1a746",
   "metadata": {
    "deletable": false,
    "editable": false,
    "nbgrader": {
     "cell_type": "markdown",
     "checksum": "c7873afd76b126596ec5c36425540e67",
     "grade": false,
     "grade_id": "cell-4b82cfbca4fab91a",
     "locked": true,
     "schema_version": 3,
     "solution": false,
     "task": false
    }
   },
   "source": [
    "**Part A)** Is this chain irreducible? Aperiodic? Recurrent? Positive recurrent? \n",
    "\n",
    "Your answers should be in the form <code>True</code> or <code>False</code>. Capitalization matters when defining boolean variables in Python. Record your answers as <code>p2_a_irreducible</code>, <code>p2_a_aperiodic</code>, <code>p2_a_recurrent</code>, and <code>p2_a_posrecurrent</code>."
   ]
  },
  {
   "cell_type": "code",
   "execution_count": null,
   "id": "6de2519f",
   "metadata": {
    "deletable": false,
    "nbgrader": {
     "cell_type": "code",
     "checksum": "ae3cf3b3e22e56a99b2c8193c70b2093",
     "grade": false,
     "grade_id": "cell-02b92fb46dce9ae4",
     "locked": false,
     "schema_version": 3,
     "solution": true,
     "task": false
    }
   },
   "outputs": [],
   "source": [
    "p2_a_irreducible = None\n",
    "p2_a_aperiodic = None\n",
    "p2_a_recurrent = None\n",
    "p2_a_posrecurrent = None\n",
    "# your code here\n",
    "p2_a_irreducible = True\n",
    "p2_a_aperiodic = True\n",
    "p2_a_recurrent = True\n",
    "p2_a_posrecurrent = True\n",
    "raise NotImplementedError"
   ]
  },
  {
   "cell_type": "code",
   "execution_count": null,
   "id": "18a841de",
   "metadata": {
    "deletable": false,
    "editable": false,
    "nbgrader": {
     "cell_type": "code",
     "checksum": "36df304845aad9bb18b4985cc3c24269",
     "grade": true,
     "grade_id": "cell-70682b1bc75b316c",
     "locked": true,
     "points": 1,
     "schema_version": 3,
     "solution": false,
     "task": false
    }
   },
   "outputs": [],
   "source": [
    "# Hidden Test Cell\n",
    "# NOTE: This cell contains hidden tests. You will not see whether you passed these tests until you submit your assignment.\n",
    "# Any cell labeled \"Hidden Test Cell\" MAY have hidden tests."
   ]
  },
  {
   "cell_type": "markdown",
   "id": "353f70b8",
   "metadata": {
    "deletable": false,
    "editable": false,
    "nbgrader": {
     "cell_type": "markdown",
     "checksum": "4e9b0cfb3696c057a20284c32cd0d58e",
     "grade": false,
     "grade_id": "cell-bca2390895ebe2f4",
     "locked": true,
     "schema_version": 3,
     "solution": false,
     "task": false
    }
   },
   "source": [
    "**Part B)** Find the long-run proportion of days there will be falling kittens. \n",
    "\n",
    "Save your answer as p2_b.\n",
    "(Reminder: Give all answers to at least 3 decimal places.)"
   ]
  },
  {
   "cell_type": "code",
   "execution_count": null,
   "id": "afede337",
   "metadata": {
    "deletable": false,
    "nbgrader": {
     "cell_type": "code",
     "checksum": "35f2a50c057d63efb9fce1f724215917",
     "grade": false,
     "grade_id": "cell-265abea857248063",
     "locked": false,
     "schema_version": 3,
     "solution": true,
     "task": false
    }
   },
   "outputs": [],
   "source": [
    "p2_b = None\n",
    "# your code here\n",
    "p2_b = 0.049143  # at least 3 d.p.\n",
    "\n",
    "raise NotImplementedError"
   ]
  },
  {
   "cell_type": "code",
   "execution_count": null,
   "id": "737e4425",
   "metadata": {
    "deletable": false,
    "editable": false,
    "nbgrader": {
     "cell_type": "code",
     "checksum": "3e7e3a7183359d2612cbc245d85dc8e2",
     "grade": true,
     "grade_id": "cell-9944b7f2bf95d8b7",
     "locked": true,
     "points": 1,
     "schema_version": 3,
     "solution": false,
     "task": false
    }
   },
   "outputs": [],
   "source": [
    "# Hidden Test Cell\n",
    "# NOTE: This cell contains hidden tests. You will not see whether you passed these tests until you submit your assignment.\n",
    "# Any cell labeled \"Hidden Test Cell\" MAY have hidden tests."
   ]
  },
  {
   "cell_type": "markdown",
   "id": "c429f3d9",
   "metadata": {
    "deletable": false,
    "editable": false,
    "nbgrader": {
     "cell_type": "markdown",
     "checksum": "25bbbbdeb01b9875e9d886dc9d3ac998",
     "grade": false,
     "grade_id": "cell-d9cb52ec63383506",
     "locked": true,
     "schema_version": 3,
     "solution": false,
     "task": false
    }
   },
   "source": [
    "**Part C)** Find the long-run proportion of days there will be falling kittens followed by a Sunny day. \n",
    "\n",
    "Save your answer as p2_c."
   ]
  },
  {
   "cell_type": "code",
   "execution_count": null,
   "id": "407447e1",
   "metadata": {
    "deletable": false,
    "nbgrader": {
     "cell_type": "code",
     "checksum": "18082c8399b8412b1a78257b6d49d908",
     "grade": false,
     "grade_id": "cell-d36e2ff660db8b3e",
     "locked": false,
     "schema_version": 3,
     "solution": true,
     "task": false
    }
   },
   "outputs": [],
   "source": [
    "p2_c = None\n",
    "# your code here\n",
    "p2_c = 0.044229  # = p2_b * P[5→1] = 0.0491433724 * 0.9\n",
    "\n",
    "raise NotImplementedError"
   ]
  },
  {
   "cell_type": "code",
   "execution_count": null,
   "id": "430b3af8",
   "metadata": {
    "deletable": false,
    "editable": false,
    "nbgrader": {
     "cell_type": "code",
     "checksum": "243b66d546915c277542e17fe7d0e70f",
     "grade": true,
     "grade_id": "cell-3f579ccdb2e61c30",
     "locked": true,
     "points": 1,
     "schema_version": 3,
     "solution": false,
     "task": false
    }
   },
   "outputs": [],
   "source": [
    "# Hidden Test Cell\n",
    "# NOTE: This cell contains hidden tests. You will not see whether you passed these tests until you submit your assignment.\n",
    "# Any cell labeled \"Hidden Test Cell\" MAY have hidden tests."
   ]
  },
  {
   "cell_type": "markdown",
   "id": "cc92005f",
   "metadata": {
    "deletable": false,
    "editable": false,
    "nbgrader": {
     "cell_type": "markdown",
     "checksum": "aa089229f16e1577cb834df5bf85ede5",
     "grade": false,
     "grade_id": "cell-588f8672bf4d71d1",
     "locked": true,
     "schema_version": 3,
     "solution": false,
     "task": false
    }
   },
   "source": [
    "**Part D)** What is the most likely state to find this chain in in the long-run? The next most likely? The least likely?\n",
    "\n",
    "Define a vector-valued variable <code>p2_d</code> of length $5$ that gives the corresponding rankings for states $1$ through $5$, respectively. For example, if \"Sunny\" is the third most likely state, the first value of p2_d should be $3$. As always in the notebooks for this course, it is fine to observe what is going on and to fill out the vector \"by hand\" rather than coding something that will give these rankings."
   ]
  },
  {
   "cell_type": "code",
   "execution_count": null,
   "id": "63532ac1",
   "metadata": {},
   "outputs": [],
   "source": [
    "# This is a free cell for you to experiment in.\n"
   ]
  },
  {
   "cell_type": "code",
   "execution_count": null,
   "id": "d212fcb9",
   "metadata": {
    "deletable": false,
    "nbgrader": {
     "cell_type": "code",
     "checksum": "ec31acb46f96e8ad9b3f36ab73309bcb",
     "grade": false,
     "grade_id": "cell-ba4457d0f9a9aacd",
     "locked": false,
     "schema_version": 3,
     "solution": true,
     "task": false
    }
   },
   "outputs": [],
   "source": [
    "p2_d = None\n",
    "# your code here\n",
    "p2_d = [1, 3, 2, 4, 5]\n",
    "\n",
    "raise NotImplementedError"
   ]
  },
  {
   "cell_type": "code",
   "execution_count": null,
   "id": "4958f14b",
   "metadata": {
    "deletable": false,
    "editable": false,
    "nbgrader": {
     "cell_type": "code",
     "checksum": "50aa996a8c41906abee452682bf3c3cd",
     "grade": true,
     "grade_id": "cell-4fd7a8e5ba191b0e",
     "locked": true,
     "points": 1,
     "schema_version": 3,
     "solution": false,
     "task": false
    }
   },
   "outputs": [],
   "source": [
    "# Hidden Test Cell\n",
    "# NOTE: This cell contains hidden tests. You will not see whether you passed these tests until you submit your assignment.\n",
    "# Any cell labeled \"Hidden Test Cell\" MAY have hidden tests."
   ]
  },
  {
   "cell_type": "code",
   "execution_count": null,
   "id": "21b3e4b5",
   "metadata": {},
   "outputs": [],
   "source": []
  }
 ],
 "metadata": {
  "kernelspec": {
   "display_name": "Python 3 (ipykernel)",
   "language": "python",
   "name": "python3"
  },
  "language_info": {
   "codemirror_mode": {
    "name": "ipython",
    "version": 3
   },
   "file_extension": ".py",
   "mimetype": "text/x-python",
   "name": "python",
   "nbconvert_exporter": "python",
   "pygments_lexer": "ipython3",
   "version": "3.10.6"
  }
 },
 "nbformat": 4,
 "nbformat_minor": 5
}
